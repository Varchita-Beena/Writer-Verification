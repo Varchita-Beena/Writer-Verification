{
 "cells": [
  {
   "cell_type": "code",
   "execution_count": null,
   "id": "de3d00e6",
   "metadata": {},
   "outputs": [],
   "source": [
    "import numpy as np\n",
    "import pandas as pd\n",
    "import random\n",
    "import os\n",
    "import matplotlib.pyplot as plt\n",
    "from PIL import Image, ImageFilter\n",
    "import math\n",
    "import tensorflow as tf\n",
    "from sklearn.model_selection import train_test_split\n"
   ]
  },
  {
   "cell_type": "code",
   "execution_count": null,
   "id": "ed2f8c50",
   "metadata": {},
   "outputs": [],
   "source": [
    "main_folder = 'dataset/'\n",
    "train_folder = 'dataset/train/'\n"
   ]
  },
  {
   "cell_type": "code",
   "execution_count": null,
   "id": "91c7c71a",
   "metadata": {},
   "outputs": [],
   "source": [
    "writer_dirs = os.listdir(train_folder)\n",
    "\n",
    "if '.DS_Store' in writer_dirs:\n",
    "    writer_dirs.remove('.DS_Store')\n",
    "\n",
    "len(writer_dirs)"
   ]
  },
  {
   "cell_type": "code",
   "execution_count": null,
   "id": "cf11965c",
   "metadata": {},
   "outputs": [],
   "source": [
    "reshape_shape = (170, 690)"
   ]
  },
  {
   "cell_type": "code",
   "execution_count": null,
   "id": "6fe7aa37",
   "metadata": {},
   "outputs": [],
   "source": [
    "def convert_to_array(img):\n",
    "    img = np.asarray(img)\n",
    "    img = np.expand_dims(img, axis=-1)\n",
    "    return img"
   ]
  },
  {
   "cell_type": "code",
   "execution_count": null,
   "id": "4353481b",
   "metadata": {},
   "outputs": [],
   "source": [
    "def expand_dim(img):\n",
    "    img = np.expand_dims(img, axis=-1)\n",
    "    return img"
   ]
  },
  {
   "cell_type": "code",
   "execution_count": null,
   "id": "e245e880",
   "metadata": {},
   "outputs": [],
   "source": [
    "def save_img(image, path):\n",
    "    image = np.asarray(image)\n",
    "    image = image.reshape(reshape_shape)\n",
    "    image = Image.fromarray(image)\n",
    "    image.save(path)"
   ]
  },
  {
   "cell_type": "code",
   "execution_count": null,
   "id": "3a904c83",
   "metadata": {},
   "outputs": [],
   "source": [
    "def add_margin(pil_img, top, right, bottom, left, color):\n",
    "    width, height = pil_img.size\n",
    "    new_width = width + right + left\n",
    "    new_height = height + top + bottom\n",
    "    result = Image.new(pil_img.mode, (new_width, new_height), color)\n",
    "    result.paste(pil_img, (left, top))\n",
    "    return result\n",
    "\n",
    "def resize(open_image):\n",
    "    ratio = open_image.size[0] / open_image.size[1]\n",
    "    if ratio < 6.0:\n",
    "        new_shape = (728, 182)\n",
    "        resized_img = open_image.resize(new_shape, Image.LANCZOS)\n",
    "        im = resized_img.crop((10, 5, 700, 175))\n",
    "        return im\n",
    "        \n",
    "    elif ratio >= 6.0 and ratio < 12.0:\n",
    "        new_shape = (728, 104)\n",
    "        resized_img = open_image.resize(new_shape, Image.LANCZOS)\n",
    "        resized_img = resized_img.crop((10, 5, 700, 95))\n",
    "        im = add_margin(resized_img, 40, 0, 40, 0, (255))\n",
    "        return im\n",
    "        \n",
    "    else:\n",
    "        new_shape = (728, 56)\n",
    "        resized_img = open_image.resize(new_shape, Image.LANCZOS)\n",
    "        resized_img = resized_img.crop((10, 10, 700, 50))\n",
    "        im = add_margin(resized_img, 65, 0, 65, 0, (255))\n",
    "        \n",
    "        return im\n",
    "    "
   ]
  },
  {
   "cell_type": "code",
   "execution_count": null,
   "id": "461724d2",
   "metadata": {},
   "outputs": [],
   "source": [
    "image_names = []\n",
    "labels = []\n",
    "sparse_labs = []\n",
    "path = 'resized_train/'\n",
    "\n",
    "if os.path.isdir('resized_train/') == False:\n",
    "    os.mkdir('resized_train/')\n",
    "\n",
    "for index, writer_folder in enumerate(writer_dirs):\n",
    "    \n",
    "    print(index)\n",
    "    \n",
    "    new_folder = path + writer_folder\n",
    "    if os.path.isdir(new_folder) == False:\n",
    "        os.mkdir(new_folder)\n",
    "    \n",
    "    writer_images_names = os.listdir(train_folder + writer_folder)\n",
    "    \n",
    "    for sub_index, writer_image in enumerate(writer_images_names):\n",
    "        save_path = path + writer_folder + '/' + writer_image.split('.')[0]\n",
    "        img_path = train_folder + writer_folder + '/' + writer_image\n",
    "        open_image = Image.open(img_path)\n",
    "        \n",
    "        \n",
    "        resized_img = resize(open_image)\n",
    "        \n",
    "        save_img(convert_to_array(resized_img), save_path + '_' + str(counter) + '.jpg')\n",
    "        \n",
    "        "
   ]
  },
  {
   "cell_type": "code",
   "execution_count": null,
   "id": "cc9c53e6",
   "metadata": {},
   "outputs": [],
   "source": []
  },
  {
   "cell_type": "code",
   "execution_count": null,
   "id": "c5d79072",
   "metadata": {},
   "outputs": [],
   "source": [
    "val_resized = 'val_resize/'\n",
    "if os.path.isdir(val_resized) == False:\n",
    "    os.mkdir(val_resized)\n",
    "    "
   ]
  },
  {
   "cell_type": "code",
   "execution_count": null,
   "id": "43f3a836",
   "metadata": {},
   "outputs": [],
   "source": [
    "val_path = 'dataset/val/'\n",
    "val_images = os.listdir(val_path)\n"
   ]
  },
  {
   "cell_type": "code",
   "execution_count": null,
   "id": "110ac8aa",
   "metadata": {},
   "outputs": [],
   "source": [
    "for index, writer_img in enumerate(val_images):\n",
    "    \n",
    "    print(index)\n",
    "    \n",
    "    save_path = val_resized + writer_img\n",
    "    \n",
    "    img_path = val_path + writer_img\n",
    "    open_image = Image.open(img_path)\n",
    "    resized_img = resize(open_image)\n",
    "    resized_img.save(save_path)\n",
    "    "
   ]
  },
  {
   "cell_type": "code",
   "execution_count": null,
   "id": "6948d23f",
   "metadata": {},
   "outputs": [],
   "source": []
  }
 ],
 "metadata": {
  "kernelspec": {
   "display_name": "Python 3 (ipykernel)",
   "language": "python",
   "name": "python3"
  },
  "language_info": {
   "codemirror_mode": {
    "name": "ipython",
    "version": 3
   },
   "file_extension": ".py",
   "mimetype": "text/x-python",
   "name": "python",
   "nbconvert_exporter": "python",
   "pygments_lexer": "ipython3",
   "version": "3.9.16"
  }
 },
 "nbformat": 4,
 "nbformat_minor": 5
}
