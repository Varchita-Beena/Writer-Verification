{
 "cells": [
  {
   "cell_type": "code",
   "execution_count": null,
   "id": "7599da3d",
   "metadata": {},
   "outputs": [],
   "source": [
    "from PIL import Image\n",
    "import numpy as np\n",
    "import pandas as pd\n",
    "import os\n",
    "import math\n",
    "import cv2\n",
    "import tensorflow as tf\n",
    "import itertools\n",
    "from sklearn import preprocessing\n",
    "import pickle\n",
    "import matplotlib.cm as cm\n",
    "import random\n",
    "from sklearn.metrics import f1_score, roc_auc_score\n",
    "from sklearn.metrics import roc_curve, auc\n",
    "import matplotlib.pyplot as plt\n",
    "from sklearn.metrics import accuracy_score, confusion_matrix "
   ]
  },
  {
   "cell_type": "code",
   "execution_count": null,
   "id": "34676a11",
   "metadata": {},
   "outputs": [],
   "source": [
    "test_folder = 'semi_test/'\n",
    "test_file = 'test.csv'\n",
    "model = tf.keras.models.load_model('writer_model.h5')\n",
    "model_weights = model.load_weights('writer_model_weights.h5')\n",
    "\n",
    "for index, layer in enumerate(model.layers):\n",
    "    print(index, layer)\n",
    "\n",
    "model.trainable = False\n",
    "maxlen = 78\n",
    "\n",
    "with open('mm_scaler_m.pkl','rb') as f:\n",
    "    mm_scaler_m = pickle.load(f)\n",
    "    \n",
    "with open('mm_scaler_n.pkl','rb') as f:\n",
    "    mm_scaler_n = pickle.load(f)\n",
    "    "
   ]
  },
  {
   "cell_type": "code",
   "execution_count": null,
   "id": "506a8ab0",
   "metadata": {},
   "outputs": [],
   "source": [
    "df_test = pd.read_csv(test_file)\n",
    "print(df_test.head(4))\n",
    "print(df_test.shape)\n"
   ]
  },
  {
   "cell_type": "code",
   "execution_count": null,
   "id": "8befcf50",
   "metadata": {},
   "outputs": [],
   "source": [
    "reshape_shape = (170, 690)\n",
    "\n",
    "def add_margin(pil_img, top, right, bottom, left, color):\n",
    "    width, height = pil_img.size\n",
    "    new_width = width + right + left\n",
    "    new_height = height + top + bottom\n",
    "    result = Image.new(pil_img.mode, (new_width, new_height), color)\n",
    "    result.paste(pil_img, (left, top))\n",
    "    return result\n",
    "\n",
    "def resize(open_image):\n",
    "    ratio = open_image.size[0] / open_image.size[1]\n",
    "    if ratio < 6.0:\n",
    "        new_shape = (728, 182)\n",
    "        resized_img = open_image.resize(new_shape, Image.LANCZOS)\n",
    "        im = resized_img.crop((10, 5, 700, 175))\n",
    "        return im\n",
    "        \n",
    "    elif ratio >= 6.0 and ratio < 12.0:\n",
    "        new_shape = (728, 104)\n",
    "        resized_img = open_image.resize(new_shape, Image.LANCZOS)\n",
    "        resized_img = resized_img.crop((10, 5, 700, 95))\n",
    "        im = add_margin(resized_img, 40, 0, 40, 0, (255))\n",
    "        return im\n",
    "        \n",
    "    else:\n",
    "        new_shape = (728, 56)\n",
    "        resized_img = open_image.resize(new_shape, Image.LANCZOS)\n",
    "        resized_img = resized_img.crop((10, 10, 700, 50))\n",
    "        im = add_margin(resized_img, 65, 0, 65, 0, (255))\n",
    "        \n",
    "        return im\n",
    "\n",
    "    "
   ]
  },
  {
   "cell_type": "code",
   "execution_count": null,
   "id": "f52842aa",
   "metadata": {},
   "outputs": [],
   "source": [
    "def get_feature(img1, img2, orb, bf):\n",
    "    kp1, des1 = orb.detectAndCompute(img1,None)\n",
    "    kp2, des2 = orb.detectAndCompute(img2,None)\n",
    "    try:\n",
    "        if des1.all()!=None and des2.all()!=None:\n",
    "            return des1, des2\n",
    "            \n",
    "    except AttributeError:\n",
    "        return [], []\n",
    "    except ValueError:\n",
    "        return [], []\n",
    " "
   ]
  },
  {
   "cell_type": "code",
   "execution_count": null,
   "id": "0859085c",
   "metadata": {},
   "outputs": [],
   "source": [
    "def make_predictions(df, model):\n",
    "    orb = cv2.ORB_create(90)\n",
    "    bf = cv2.BFMatcher()\n",
    "    img1_features = []\n",
    "    img2_features = []\n",
    "    predictions = []\n",
    "    img1_name = []\n",
    "    img2_name = []\n",
    "    prediction_probs = []\n",
    "    \n",
    "    for index, row in df.iterrows():\n",
    "        print(index)\n",
    "        img1_name.append(row['img1_name'])\n",
    "        img2_name.append(row['img2_name'])\n",
    "        img1 = Image.open(test_folder + row['img1_name'])\n",
    "        img2 = Image.open(test_folder + row['img2_name'])\n",
    "        img1 = resize(img1)\n",
    "        img2 = resize(img2)\n",
    "\n",
    "        img1 = np.asarray(img1)\n",
    "        img2 = np.asarray(img2)\n",
    "\n",
    "        img1 = np.expand_dims(img1, axis = -1)\n",
    "        img2 = np.expand_dims(img2, axis = -1)\n",
    "        print(img1.shape, img2.shape)\n",
    "        m_list, n_list = get_feature(img1, img2, orb, bf)\n",
    "        if len(m_list) == 0 or len(n_list) <= 1:\n",
    "            temp_prob = np.random.rand()\n",
    "            prediction_probs.append(temp_prob)\n",
    "            if temp_prob >= 0.5:\n",
    "                predictions.append(1)\n",
    "            else:\n",
    "                predictions.append(0)\n",
    "            \n",
    "            \n",
    "        else:\n",
    "            img1_features_val = []\n",
    "            img2_features_val = []\n",
    "            img1_features_val.append(m_list)\n",
    "            img2_features_val.append(n_list)\n",
    "            img1_features_val = tf.keras.utils.pad_sequences(img1_features_val, maxlen = maxlen)\n",
    "            img2_features_val = tf.keras.utils.pad_sequences(img2_features_val, maxlen = maxlen)\n",
    "\n",
    "            img1_features_val = np.array(img1_features_val)\n",
    "            img2_features_val = np.array(img2_features_val)\n",
    "\n",
    "            img1_features_val_shape = img1_features_val.shape\n",
    "            img2_features_val_shape = img2_features_val.shape\n",
    "\n",
    "            img1_features_val = np.reshape(img1_features_val, (img1_features_val.shape[0], img1_features_val.shape[1] * img1_features_val.shape[2]))\n",
    "            img2_features_val = np.reshape(img2_features_val, (img2_features_val.shape[0], img2_features_val.shape[1] * img2_features_val.shape[2]))\n",
    "\n",
    "            m_val = mm_scaler_m.transform(img1_features_val)\n",
    "            n_val = mm_scaler_n.transform(img2_features_val)\n",
    "\n",
    "            m_val = np.reshape(m_val, (img1_features_val_shape[0], img1_features_val_shape[1], img1_features_val_shape[2]))\n",
    "            n_val = np.reshape(n_val, (img2_features_val_shape[0], img2_features_val_shape[1], img2_features_val_shape[2]))\n",
    "\n",
    "            model_pred = model.predict([m_val, n_val])\n",
    "            prediction_probs.append(model_pred[0][0])\n",
    "            if model_pred >= 0.5:\n",
    "                predictions.append(1)\n",
    "            else:\n",
    "                predictions.append(0)\n",
    "            \n",
    "          \n",
    "    return prediction_probs, predictions, img1_name, img2_name\n",
    "        \n",
    "prediction_probs, predictions, img1_name, img2_name = make_predictions(df_test, model)\n"
   ]
  },
  {
   "cell_type": "code",
   "execution_count": null,
   "id": "6fa7c40d",
   "metadata": {},
   "outputs": [],
   "source": [
    "output = pd.DataFrame(img1_name, columns=['img1_name'])\n",
    "output['img2_name'] = img2_name\n",
    "output['label'] = predictions\n",
    "output['proba'] = prediction_probs\n",
    "output.shape"
   ]
  },
  {
   "cell_type": "code",
   "execution_count": null,
   "id": "99837f08",
   "metadata": {},
   "outputs": [],
   "source": [
    "cols = ['img1_name', 'img2_name']\n",
    "output['id'] = output[cols].apply(lambda row: '_'.join(row.values.astype(str)), axis=1)    "
   ]
  },
  {
   "cell_type": "code",
   "execution_count": null,
   "id": "3bc63c3f",
   "metadata": {},
   "outputs": [],
   "source": [
    "output.head(3)\n"
   ]
  },
  {
   "cell_type": "code",
   "execution_count": null,
   "id": "ec1f4757",
   "metadata": {},
   "outputs": [],
   "source": [
    "output = output.drop(['label', 'img1_name', 'img2_name'], axis = 1)\n"
   ]
  },
  {
   "cell_type": "code",
   "execution_count": null,
   "id": "f2c56127",
   "metadata": {},
   "outputs": [],
   "source": [
    "output.head(3)"
   ]
  },
  {
   "cell_type": "code",
   "execution_count": null,
   "id": "ce4b9d3b",
   "metadata": {},
   "outputs": [],
   "source": [
    "output = output.loc[:,['id','proba']]"
   ]
  },
  {
   "cell_type": "code",
   "execution_count": null,
   "id": "03cb33f7",
   "metadata": {},
   "outputs": [],
   "source": [
    "output.head(3)"
   ]
  },
  {
   "cell_type": "code",
   "execution_count": null,
   "id": "def5aefd",
   "metadata": {},
   "outputs": [],
   "source": [
    "output.to_csv('submission.csv', index = False)"
   ]
  },
  {
   "cell_type": "code",
   "execution_count": null,
   "id": "91b56805",
   "metadata": {},
   "outputs": [],
   "source": []
  }
 ],
 "metadata": {
  "kernelspec": {
   "display_name": "Python 3 (ipykernel)",
   "language": "python",
   "name": "python3"
  },
  "language_info": {
   "codemirror_mode": {
    "name": "ipython",
    "version": 3
   },
   "file_extension": ".py",
   "mimetype": "text/x-python",
   "name": "python",
   "nbconvert_exporter": "python",
   "pygments_lexer": "ipython3",
   "version": "3.9.16"
  }
 },
 "nbformat": 4,
 "nbformat_minor": 5
}
